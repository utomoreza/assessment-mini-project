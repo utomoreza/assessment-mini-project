{
  "cells": [
    {
      "cell_type": "markdown",
      "metadata": {},
      "source": [
        "<table class=\"tfo-notebook-buttons\" align=\"left\">\n",
        "  <td>\n",
        "    <a target=\"_blank\" href=\"https://colab.research.google.com/github/utomoreza/assessment-mini-project/blob/main/notebook/usecase-image.ipynb\"><img src=\"https://www.tensorflow.org/images/colab_logo_32px.png\" />Run in Google Colab</a>\n",
        "  </td>\n",
        "  <td>\n",
        "    <a target=\"_blank\" href=\"https://github.com/utomoreza/assessment-mini-project/blob/main/notebook/usecase-image.ipynb\"><img src=\"https://www.tensorflow.org/images/GitHub-Mark-32px.png\" />View source on GitHub</a>\n",
        "  </td>\n",
        "  <td>\n",
        "    <a href=\"https://raw.githubusercontent.com/utomoreza/assessment-mini-project/main/notebook/usecase-image.ipynb\"><img src=\"https://www.tensorflow.org/images/download_logo_32px.png\" />Download notebook</a>\n",
        "  </td>\n",
        "</table>"
      ]
    },
    {
      "cell_type": "markdown",
      "metadata": {
        "id": "NzMyPIY81tKr"
      },
      "source": [
        "# Metadata\n",
        "The dataset used is CIFAR-10. You can read its explanation in this [webpage](https://www.kaggle.com/c/cifar-10/data).\n",
        "\n",
        "The label classes in the dataset are:\n",
        "<ol start=\"0\">\n",
        "    <li>airplane</li>\n",
        "    <li>automobile</li>\n",
        "    <li>bird</li>\n",
        "    <li>cat</li>\n",
        "    <li>deer</li>\n",
        "    <li>dog</li>\n",
        "    <li>frog</li>\n",
        "    <li>horse</li>\n",
        "    <li>ship</li>\n",
        "    <li>truck</li>\n",
        "</ol>"
      ]
    },
    {
      "cell_type": "code",
      "execution_count": 2,
      "metadata": {
        "execution": {
          "iopub.execute_input": "2024-05-03T06:58:28.32581Z",
          "iopub.status.busy": "2024-05-03T06:58:28.325427Z",
          "iopub.status.idle": "2024-05-03T06:58:28.757229Z",
          "shell.execute_reply": "2024-05-03T06:58:28.756231Z",
          "shell.execute_reply.started": "2024-05-03T06:58:28.325781Z"
        },
        "id": "imm_MCUH1tKs",
        "trusted": true
      },
      "outputs": [],
      "source": [
        "import numpy as np\n",
        "import pandas as pd\n",
        "\n",
        "import matplotlib.pyplot as plt\n",
        "from sklearn.model_selection import train_test_split\n",
        "\n",
        "import tensorflow as tf\n",
        "from tensorflow.keras import datasets, models, layers\n",
        "import keras\n",
        "from keras.preprocessing import image\n",
        "from keras.datasets import cifar10"
      ]
    },
    {
      "cell_type": "code",
      "execution_count": 26,
      "metadata": {
        "execution": {
          "iopub.execute_input": "2024-05-03T06:55:05.070908Z",
          "iopub.status.busy": "2024-05-03T06:55:05.070534Z",
          "iopub.status.idle": "2024-05-03T06:55:09.770583Z",
          "shell.execute_reply": "2024-05-03T06:55:09.769489Z",
          "shell.execute_reply.started": "2024-05-03T06:55:05.07088Z"
        },
        "id": "INICnPd81tKs",
        "trusted": true
      },
      "outputs": [],
      "source": [
        "# Adding TF Cifar10 Data ..\n",
        "(X_train, y_train), (X_test, y_test) = cifar10.load_data()"
      ]
    },
    {
      "cell_type": "code",
      "execution_count": 27,
      "metadata": {
        "execution": {
          "iopub.execute_input": "2024-05-03T06:59:36.995965Z",
          "iopub.status.busy": "2024-05-03T06:59:36.995021Z",
          "iopub.status.idle": "2024-05-03T06:59:37.016243Z",
          "shell.execute_reply": "2024-05-03T06:59:37.015365Z",
          "shell.execute_reply.started": "2024-05-03T06:59:36.995931Z"
        },
        "id": "AegNOT6G1tKt",
        "trusted": true
      },
      "outputs": [],
      "source": [
        "X_val, X_test, y_val, y_test = train_test_split(\n",
        "    X_test, y_test, test_size=0.4, shuffle = True\n",
        ")"
      ]
    },
    {
      "cell_type": "code",
      "execution_count": 5,
      "metadata": {
        "colab": {
          "base_uri": "https://localhost:8080/"
        },
        "execution": {
          "iopub.execute_input": "2024-05-03T07:00:05.417096Z",
          "iopub.status.busy": "2024-05-03T07:00:05.416733Z",
          "iopub.status.idle": "2024-05-03T07:00:05.422899Z",
          "shell.execute_reply": "2024-05-03T07:00:05.421872Z",
          "shell.execute_reply.started": "2024-05-03T07:00:05.417067Z"
        },
        "id": "Vt1_Vr2G1tKt",
        "outputId": "70c08271-2183-4e7c-a9b9-54f859812926",
        "trusted": true
      },
      "outputs": [
        {
          "name": "stdout",
          "output_type": "stream",
          "text": [
            "(50000, 32, 32, 3) (50000, 1)\n",
            "(6000, 32, 32, 3) (6000, 1)\n",
            "(4000, 32, 32, 3) (4000, 1)\n"
          ]
        }
      ],
      "source": [
        "print(X_train.shape, y_train.shape)\n",
        "print(X_val.shape, y_val.shape)\n",
        "print(X_test.shape, y_test.shape)"
      ]
    },
    {
      "cell_type": "code",
      "execution_count": 6,
      "metadata": {
        "execution": {
          "iopub.execute_input": "2024-05-03T06:55:21.045341Z",
          "iopub.status.busy": "2024-05-03T06:55:21.044355Z",
          "iopub.status.idle": "2024-05-03T06:55:21.050555Z",
          "shell.execute_reply": "2024-05-03T06:55:21.049563Z",
          "shell.execute_reply.started": "2024-05-03T06:55:21.045284Z"
        },
        "id": "h_CIjRZo1tKt",
        "trusted": true
      },
      "outputs": [],
      "source": [
        "code_to_label = {\n",
        "    0: \"airplane\",\n",
        "    1: \"automobile\",\n",
        "    2: \"bird\",\n",
        "    3: \"cat\",\n",
        "    4: \"deer\",\n",
        "    5: \"dog\",\n",
        "    6: \"frog\",\n",
        "    7: \"horse\",\n",
        "    8: \"ship\",\n",
        "    9: \"truck\"\n",
        "}"
      ]
    },
    {
      "cell_type": "code",
      "execution_count": 7,
      "metadata": {
        "execution": {
          "iopub.execute_input": "2024-05-03T07:12:26.317614Z",
          "iopub.status.busy": "2024-05-03T07:12:26.316724Z",
          "iopub.status.idle": "2024-05-03T07:12:26.321925Z",
          "shell.execute_reply": "2024-05-03T07:12:26.32077Z",
          "shell.execute_reply.started": "2024-05-03T07:12:26.31758Z"
        },
        "id": "FOn7wm1D1tKt",
        "trusted": true
      },
      "outputs": [],
      "source": [
        "num_classes = len(code_to_label)"
      ]
    },
    {
      "cell_type": "code",
      "execution_count": 8,
      "metadata": {
        "execution": {
          "iopub.execute_input": "2024-05-03T06:55:22.705611Z",
          "iopub.status.busy": "2024-05-03T06:55:22.705209Z",
          "iopub.status.idle": "2024-05-03T06:55:22.713664Z",
          "shell.execute_reply": "2024-05-03T06:55:22.712289Z",
          "shell.execute_reply.started": "2024-05-03T06:55:22.705577Z"
        },
        "id": "OkcY7Hbn1tKu",
        "trusted": true
      },
      "outputs": [],
      "source": [
        "def show_image(idx, X, y, mapper):\n",
        "    plt.imshow(X[idx])\n",
        "    label = y[idx][0]\n",
        "    print(\"Label:\", mapper[label])"
      ]
    },
    {
      "cell_type": "code",
      "execution_count": null,
      "metadata": {
        "execution": {
          "iopub.execute_input": "2024-05-03T06:55:24.78511Z",
          "iopub.status.busy": "2024-05-03T06:55:24.784743Z",
          "iopub.status.idle": "2024-05-03T06:55:25.089439Z",
          "shell.execute_reply": "2024-05-03T06:55:25.088281Z",
          "shell.execute_reply.started": "2024-05-03T06:55:24.785082Z"
        },
        "id": "FVhNgZq61tKu",
        "trusted": true
      },
      "outputs": [],
      "source": [
        "show_image(42, X_train, y_train, code_to_label)"
      ]
    },
    {
      "cell_type": "markdown",
      "metadata": {
        "execution": {
          "iopub.execute_input": "2024-05-03T02:59:38.615253Z",
          "iopub.status.busy": "2024-05-03T02:59:38.614837Z",
          "iopub.status.idle": "2024-05-03T02:59:38.620153Z",
          "shell.execute_reply": "2024-05-03T02:59:38.619003Z",
          "shell.execute_reply.started": "2024-05-03T02:59:38.61522Z"
        },
        "id": "tWKmIbS-1tKu"
      },
      "source": [
        "# Data Preprocessing"
      ]
    },
    {
      "cell_type": "code",
      "execution_count": 28,
      "metadata": {
        "id": "sSGsTt7Q9_7a"
      },
      "outputs": [],
      "source": [
        "# Normalize the data.\n",
        "def normalize(X):\n",
        "    X = X.astype('float32')\n",
        "    X /= 255.0\n",
        "    return X\n",
        "\n",
        "X_train = normalize(X_train)\n",
        "X_val = normalize(X_val.astype)\n",
        "X_test = normalize(X_test.astype)"
      ]
    },
    {
      "cell_type": "code",
      "execution_count": 29,
      "metadata": {
        "execution": {
          "iopub.execute_input": "2024-05-03T07:13:29.823244Z",
          "iopub.status.busy": "2024-05-03T07:13:29.822308Z",
          "iopub.status.idle": "2024-05-03T07:13:29.830003Z",
          "shell.execute_reply": "2024-05-03T07:13:29.828918Z",
          "shell.execute_reply.started": "2024-05-03T07:13:29.82321Z"
        },
        "id": "Q35u8E6w1tKu",
        "trusted": true
      },
      "outputs": [],
      "source": [
        "# on-hot encoded to 10 classes\n",
        "y_train = tf.keras.utils.to_categorical(y_train, num_classes)\n",
        "y_val = tf.keras.utils.to_categorical(y_val, num_classes)\n",
        "y_test = tf.keras.utils.to_categorical(y_test, num_classes)"
      ]
    },
    {
      "cell_type": "markdown",
      "metadata": {
        "id": "we2YKn681tKu"
      },
      "source": [
        "# Modelling"
      ]
    },
    {
      "cell_type": "code",
      "execution_count": 10,
      "metadata": {
        "execution": {
          "iopub.execute_input": "2024-05-03T06:55:42.204724Z",
          "iopub.status.busy": "2024-05-03T06:55:42.204319Z",
          "iopub.status.idle": "2024-05-03T06:55:42.210424Z",
          "shell.execute_reply": "2024-05-03T06:55:42.209361Z",
          "shell.execute_reply.started": "2024-05-03T06:55:42.204694Z"
        },
        "id": "GQbKDZP-1tKu",
        "trusted": true
      },
      "outputs": [],
      "source": [
        "from keras.callbacks import EarlyStopping\n",
        "from keras.layers import (\n",
        "    Dense, Conv2D,  MaxPool2D,\n",
        "    Flatten, GlobalAveragePooling2D,\n",
        "    BatchNormalization, Layer, Add\n",
        ")\n",
        "from keras.models import Model, Sequential\n",
        "from keras.optimizers import SGD\n",
        "import tensorflow as tf"
      ]
    },
    {
      "cell_type": "markdown",
      "metadata": {
        "id": "dhGUY-qgFXC1"
      },
      "source": [
        "## Training"
      ]
    },
    {
      "cell_type": "code",
      "execution_count": 11,
      "metadata": {
        "execution": {
          "iopub.execute_input": "2024-05-03T06:55:47.875069Z",
          "iopub.status.busy": "2024-05-03T06:55:47.874704Z",
          "iopub.status.idle": "2024-05-03T06:55:47.882818Z",
          "shell.execute_reply": "2024-05-03T06:55:47.881708Z",
          "shell.execute_reply.started": "2024-05-03T06:55:47.875041Z"
        },
        "id": "ZIYIZc881tKv",
        "trusted": true
      },
      "outputs": [],
      "source": [
        "def identity_block(x, filter):\n",
        "    # copy tensor to variable called x_skip\n",
        "    x_skip = x\n",
        "    # Layer 1\n",
        "    x = tf.keras.layers.Conv2D(filter, (3,3), padding = 'same')(x)\n",
        "    x = tf.keras.layers.BatchNormalization(axis=3)(x)\n",
        "    x = tf.keras.layers.Activation('relu')(x)\n",
        "    # Layer 2\n",
        "    x = tf.keras.layers.Conv2D(filter, (3,3), padding = 'same')(x)\n",
        "    x = tf.keras.layers.BatchNormalization(axis=3)(x)\n",
        "    # Add Residue\n",
        "    x = tf.keras.layers.Add()([x, x_skip])\n",
        "    x = tf.keras.layers.Activation('relu')(x)\n",
        "    return x"
      ]
    },
    {
      "cell_type": "code",
      "execution_count": 12,
      "metadata": {
        "execution": {
          "iopub.execute_input": "2024-05-03T06:55:48.665088Z",
          "iopub.status.busy": "2024-05-03T06:55:48.664694Z",
          "iopub.status.idle": "2024-05-03T06:55:48.673964Z",
          "shell.execute_reply": "2024-05-03T06:55:48.672941Z",
          "shell.execute_reply.started": "2024-05-03T06:55:48.665049Z"
        },
        "id": "FqM9I43a1tKw",
        "trusted": true
      },
      "outputs": [],
      "source": [
        "def convolutional_block(x, filter):\n",
        "    # copy tensor to variable called x_skip\n",
        "    x_skip = x\n",
        "    # Layer 1\n",
        "    x = tf.keras.layers.Conv2D(filter, (3,3), padding = 'same', strides = (2,2))(x)\n",
        "    x = tf.keras.layers.BatchNormalization(axis=3)(x)\n",
        "    x = tf.keras.layers.Activation('relu')(x)\n",
        "    # Layer 2\n",
        "    x = tf.keras.layers.Conv2D(filter, (3,3), padding = 'same')(x)\n",
        "    x = tf.keras.layers.BatchNormalization(axis=3)(x)\n",
        "    # Processing Residue with conv(1,1)\n",
        "    x_skip = tf.keras.layers.Conv2D(filter, (1,1), strides = (2,2))(x_skip)\n",
        "    # Add Residue\n",
        "    x = tf.keras.layers.Add()([x, x_skip])\n",
        "    x = tf.keras.layers.Activation('relu')(x)\n",
        "    return x"
      ]
    },
    {
      "cell_type": "code",
      "execution_count": 13,
      "metadata": {
        "execution": {
          "iopub.execute_input": "2024-05-03T06:55:49.229775Z",
          "iopub.status.busy": "2024-05-03T06:55:49.229407Z",
          "iopub.status.idle": "2024-05-03T06:55:49.241619Z",
          "shell.execute_reply": "2024-05-03T06:55:49.240391Z",
          "shell.execute_reply.started": "2024-05-03T06:55:49.229745Z"
        },
        "id": "-wg8QAJ21tKw",
        "trusted": true
      },
      "outputs": [],
      "source": [
        "def ResNet34(shape=(32, 32, 3), classes=10):\n",
        "    # Step 1 (Setup Input Layer)\n",
        "    x_input = tf.keras.layers.Input(shape)\n",
        "    x = tf.keras.layers.ZeroPadding2D((3, 3))(x_input)\n",
        "    # Step 2 (Initial Conv layer along with maxPool)\n",
        "    x = tf.keras.layers.Conv2D(64, kernel_size=7, strides=2, padding='same')(x)\n",
        "    x = tf.keras.layers.BatchNormalization()(x)\n",
        "    x = tf.keras.layers.Activation('relu')(x)\n",
        "    x = tf.keras.layers.MaxPool2D(pool_size=3, strides=2, padding='same')(x)\n",
        "    # Define size of sub-blocks and initial filter size\n",
        "    block_layers = [3, 4, 6, 3]\n",
        "    filter_size = 64\n",
        "    # Step 3 Add the Resnet Blocks\n",
        "    for i in range(4):\n",
        "        if i == 0:\n",
        "            # For sub-block 1 Residual/Convolutional block not needed\n",
        "            for j in range(block_layers[i]):\n",
        "                x = identity_block(x, filter_size)\n",
        "        else:\n",
        "            # One Residual/Convolutional Block followed by Identity blocks\n",
        "            # The filter size will go on increasing by a factor of 2\n",
        "            filter_size = filter_size*2\n",
        "            x = convolutional_block(x, filter_size)\n",
        "            for j in range(block_layers[i] - 1):\n",
        "                x = identity_block(x, filter_size)\n",
        "    # Step 4 End Dense Network\n",
        "    x = tf.keras.layers.AveragePooling2D((2,2), padding='same')(x)\n",
        "    x = tf.keras.layers.Flatten()(x)\n",
        "    x = tf.keras.layers.Dense(512, activation='relu')(x)\n",
        "    x = tf.keras.layers.Dense(classes, activation='softmax')(x)\n",
        "    model = tf.keras.models.Model(inputs=x_input, outputs=x, name=\"ResNet34\")\n",
        "    return model"
      ]
    },
    {
      "cell_type": "code",
      "execution_count": 30,
      "metadata": {
        "execution": {
          "iopub.execute_input": "2024-05-03T07:20:56.367546Z",
          "iopub.status.busy": "2024-05-03T07:20:56.366627Z",
          "iopub.status.idle": "2024-05-03T07:20:57.010346Z",
          "shell.execute_reply": "2024-05-03T07:20:57.009257Z",
          "shell.execute_reply.started": "2024-05-03T07:20:56.367494Z"
        },
        "id": "KuoMehch1tKw",
        "trusted": true
      },
      "outputs": [],
      "source": [
        "model = ResNet34()"
      ]
    },
    {
      "cell_type": "code",
      "execution_count": 31,
      "metadata": {
        "execution": {
          "iopub.execute_input": "2024-05-03T07:20:58.03725Z",
          "iopub.status.busy": "2024-05-03T07:20:58.036857Z",
          "iopub.status.idle": "2024-05-03T07:20:58.056285Z",
          "shell.execute_reply": "2024-05-03T07:20:58.055355Z",
          "shell.execute_reply.started": "2024-05-03T07:20:58.037221Z"
        },
        "id": "UJkkURHy1tKw",
        "trusted": true
      },
      "outputs": [],
      "source": [
        "model.compile(\n",
        "    optimizer=\"adam\", loss='categorical_crossentropy',\n",
        "    metrics=[\"categorical_accuracy\",\n",
        "             tf.keras.metrics.Precision(),\n",
        "             tf.keras.metrics.Recall(),\n",
        "             tf.keras.metrics.F1Score()]\n",
        ")"
      ]
    },
    {
      "cell_type": "code",
      "execution_count": 16,
      "metadata": {
        "colab": {
          "base_uri": "https://localhost:8080/"
        },
        "collapsed": true,
        "execution": {
          "iopub.execute_input": "2024-05-03T06:56:24.926775Z",
          "iopub.status.busy": "2024-05-03T06:56:24.92596Z",
          "iopub.status.idle": "2024-05-03T06:56:25.11738Z",
          "shell.execute_reply": "2024-05-03T06:56:25.116485Z",
          "shell.execute_reply.started": "2024-05-03T06:56:24.926742Z"
        },
        "id": "rpJuWE7C1tKw",
        "jupyter": {
          "outputs_hidden": true
        },
        "outputId": "e8069a26-4ccd-498c-c594-2aa13b732e4a",
        "trusted": true
      },
      "outputs": [
        {
          "name": "stdout",
          "output_type": "stream",
          "text": [
            "Model: \"ResNet34\"\n",
            "__________________________________________________________________________________________________\n",
            " Layer (type)                Output Shape                 Param #   Connected to                  \n",
            "==================================================================================================\n",
            " input_1 (InputLayer)        [(None, 32, 32, 3)]          0         []                            \n",
            "                                                                                                  \n",
            " zero_padding2d (ZeroPaddin  (None, 38, 38, 3)            0         ['input_1[0][0]']             \n",
            " g2D)                                                                                             \n",
            "                                                                                                  \n",
            " conv2d (Conv2D)             (None, 19, 19, 64)           9472      ['zero_padding2d[0][0]']      \n",
            "                                                                                                  \n",
            " batch_normalization (Batch  (None, 19, 19, 64)           256       ['conv2d[0][0]']              \n",
            " Normalization)                                                                                   \n",
            "                                                                                                  \n",
            " activation (Activation)     (None, 19, 19, 64)           0         ['batch_normalization[0][0]'] \n",
            "                                                                                                  \n",
            " max_pooling2d (MaxPooling2  (None, 10, 10, 64)           0         ['activation[0][0]']          \n",
            " D)                                                                                               \n",
            "                                                                                                  \n",
            " conv2d_1 (Conv2D)           (None, 10, 10, 64)           36928     ['max_pooling2d[0][0]']       \n",
            "                                                                                                  \n",
            " batch_normalization_1 (Bat  (None, 10, 10, 64)           256       ['conv2d_1[0][0]']            \n",
            " chNormalization)                                                                                 \n",
            "                                                                                                  \n",
            " activation_1 (Activation)   (None, 10, 10, 64)           0         ['batch_normalization_1[0][0]'\n",
            "                                                                    ]                             \n",
            "                                                                                                  \n",
            " conv2d_2 (Conv2D)           (None, 10, 10, 64)           36928     ['activation_1[0][0]']        \n",
            "                                                                                                  \n",
            " batch_normalization_2 (Bat  (None, 10, 10, 64)           256       ['conv2d_2[0][0]']            \n",
            " chNormalization)                                                                                 \n",
            "                                                                                                  \n",
            " add (Add)                   (None, 10, 10, 64)           0         ['batch_normalization_2[0][0]'\n",
            "                                                                    , 'max_pooling2d[0][0]']      \n",
            "                                                                                                  \n",
            " activation_2 (Activation)   (None, 10, 10, 64)           0         ['add[0][0]']                 \n",
            "                                                                                                  \n",
            " conv2d_3 (Conv2D)           (None, 10, 10, 64)           36928     ['activation_2[0][0]']        \n",
            "                                                                                                  \n",
            " batch_normalization_3 (Bat  (None, 10, 10, 64)           256       ['conv2d_3[0][0]']            \n",
            " chNormalization)                                                                                 \n",
            "                                                                                                  \n",
            " activation_3 (Activation)   (None, 10, 10, 64)           0         ['batch_normalization_3[0][0]'\n",
            "                                                                    ]                             \n",
            "                                                                                                  \n",
            " conv2d_4 (Conv2D)           (None, 10, 10, 64)           36928     ['activation_3[0][0]']        \n",
            "                                                                                                  \n",
            " batch_normalization_4 (Bat  (None, 10, 10, 64)           256       ['conv2d_4[0][0]']            \n",
            " chNormalization)                                                                                 \n",
            "                                                                                                  \n",
            " add_1 (Add)                 (None, 10, 10, 64)           0         ['batch_normalization_4[0][0]'\n",
            "                                                                    , 'activation_2[0][0]']       \n",
            "                                                                                                  \n",
            " activation_4 (Activation)   (None, 10, 10, 64)           0         ['add_1[0][0]']               \n",
            "                                                                                                  \n",
            " conv2d_5 (Conv2D)           (None, 10, 10, 64)           36928     ['activation_4[0][0]']        \n",
            "                                                                                                  \n",
            " batch_normalization_5 (Bat  (None, 10, 10, 64)           256       ['conv2d_5[0][0]']            \n",
            " chNormalization)                                                                                 \n",
            "                                                                                                  \n",
            " activation_5 (Activation)   (None, 10, 10, 64)           0         ['batch_normalization_5[0][0]'\n",
            "                                                                    ]                             \n",
            "                                                                                                  \n",
            " conv2d_6 (Conv2D)           (None, 10, 10, 64)           36928     ['activation_5[0][0]']        \n",
            "                                                                                                  \n",
            " batch_normalization_6 (Bat  (None, 10, 10, 64)           256       ['conv2d_6[0][0]']            \n",
            " chNormalization)                                                                                 \n",
            "                                                                                                  \n",
            " add_2 (Add)                 (None, 10, 10, 64)           0         ['batch_normalization_6[0][0]'\n",
            "                                                                    , 'activation_4[0][0]']       \n",
            "                                                                                                  \n",
            " activation_6 (Activation)   (None, 10, 10, 64)           0         ['add_2[0][0]']               \n",
            "                                                                                                  \n",
            " conv2d_7 (Conv2D)           (None, 5, 5, 128)            73856     ['activation_6[0][0]']        \n",
            "                                                                                                  \n",
            " batch_normalization_7 (Bat  (None, 5, 5, 128)            512       ['conv2d_7[0][0]']            \n",
            " chNormalization)                                                                                 \n",
            "                                                                                                  \n",
            " activation_7 (Activation)   (None, 5, 5, 128)            0         ['batch_normalization_7[0][0]'\n",
            "                                                                    ]                             \n",
            "                                                                                                  \n",
            " conv2d_8 (Conv2D)           (None, 5, 5, 128)            147584    ['activation_7[0][0]']        \n",
            "                                                                                                  \n",
            " batch_normalization_8 (Bat  (None, 5, 5, 128)            512       ['conv2d_8[0][0]']            \n",
            " chNormalization)                                                                                 \n",
            "                                                                                                  \n",
            " conv2d_9 (Conv2D)           (None, 5, 5, 128)            8320      ['activation_6[0][0]']        \n",
            "                                                                                                  \n",
            " add_3 (Add)                 (None, 5, 5, 128)            0         ['batch_normalization_8[0][0]'\n",
            "                                                                    , 'conv2d_9[0][0]']           \n",
            "                                                                                                  \n",
            " activation_8 (Activation)   (None, 5, 5, 128)            0         ['add_3[0][0]']               \n",
            "                                                                                                  \n",
            " conv2d_10 (Conv2D)          (None, 5, 5, 128)            147584    ['activation_8[0][0]']        \n",
            "                                                                                                  \n",
            " batch_normalization_9 (Bat  (None, 5, 5, 128)            512       ['conv2d_10[0][0]']           \n",
            " chNormalization)                                                                                 \n",
            "                                                                                                  \n",
            " activation_9 (Activation)   (None, 5, 5, 128)            0         ['batch_normalization_9[0][0]'\n",
            "                                                                    ]                             \n",
            "                                                                                                  \n",
            " conv2d_11 (Conv2D)          (None, 5, 5, 128)            147584    ['activation_9[0][0]']        \n",
            "                                                                                                  \n",
            " batch_normalization_10 (Ba  (None, 5, 5, 128)            512       ['conv2d_11[0][0]']           \n",
            " tchNormalization)                                                                                \n",
            "                                                                                                  \n",
            " add_4 (Add)                 (None, 5, 5, 128)            0         ['batch_normalization_10[0][0]\n",
            "                                                                    ',                            \n",
            "                                                                     'activation_8[0][0]']        \n",
            "                                                                                                  \n",
            " activation_10 (Activation)  (None, 5, 5, 128)            0         ['add_4[0][0]']               \n",
            "                                                                                                  \n",
            " conv2d_12 (Conv2D)          (None, 5, 5, 128)            147584    ['activation_10[0][0]']       \n",
            "                                                                                                  \n",
            " batch_normalization_11 (Ba  (None, 5, 5, 128)            512       ['conv2d_12[0][0]']           \n",
            " tchNormalization)                                                                                \n",
            "                                                                                                  \n",
            " activation_11 (Activation)  (None, 5, 5, 128)            0         ['batch_normalization_11[0][0]\n",
            "                                                                    ']                            \n",
            "                                                                                                  \n",
            " conv2d_13 (Conv2D)          (None, 5, 5, 128)            147584    ['activation_11[0][0]']       \n",
            "                                                                                                  \n",
            " batch_normalization_12 (Ba  (None, 5, 5, 128)            512       ['conv2d_13[0][0]']           \n",
            " tchNormalization)                                                                                \n",
            "                                                                                                  \n",
            " add_5 (Add)                 (None, 5, 5, 128)            0         ['batch_normalization_12[0][0]\n",
            "                                                                    ',                            \n",
            "                                                                     'activation_10[0][0]']       \n",
            "                                                                                                  \n",
            " activation_12 (Activation)  (None, 5, 5, 128)            0         ['add_5[0][0]']               \n",
            "                                                                                                  \n",
            " conv2d_14 (Conv2D)          (None, 5, 5, 128)            147584    ['activation_12[0][0]']       \n",
            "                                                                                                  \n",
            " batch_normalization_13 (Ba  (None, 5, 5, 128)            512       ['conv2d_14[0][0]']           \n",
            " tchNormalization)                                                                                \n",
            "                                                                                                  \n",
            " activation_13 (Activation)  (None, 5, 5, 128)            0         ['batch_normalization_13[0][0]\n",
            "                                                                    ']                            \n",
            "                                                                                                  \n",
            " conv2d_15 (Conv2D)          (None, 5, 5, 128)            147584    ['activation_13[0][0]']       \n",
            "                                                                                                  \n",
            " batch_normalization_14 (Ba  (None, 5, 5, 128)            512       ['conv2d_15[0][0]']           \n",
            " tchNormalization)                                                                                \n",
            "                                                                                                  \n",
            " add_6 (Add)                 (None, 5, 5, 128)            0         ['batch_normalization_14[0][0]\n",
            "                                                                    ',                            \n",
            "                                                                     'activation_12[0][0]']       \n",
            "                                                                                                  \n",
            " activation_14 (Activation)  (None, 5, 5, 128)            0         ['add_6[0][0]']               \n",
            "                                                                                                  \n",
            " conv2d_16 (Conv2D)          (None, 3, 3, 256)            295168    ['activation_14[0][0]']       \n",
            "                                                                                                  \n",
            " batch_normalization_15 (Ba  (None, 3, 3, 256)            1024      ['conv2d_16[0][0]']           \n",
            " tchNormalization)                                                                                \n",
            "                                                                                                  \n",
            " activation_15 (Activation)  (None, 3, 3, 256)            0         ['batch_normalization_15[0][0]\n",
            "                                                                    ']                            \n",
            "                                                                                                  \n",
            " conv2d_17 (Conv2D)          (None, 3, 3, 256)            590080    ['activation_15[0][0]']       \n",
            "                                                                                                  \n",
            " batch_normalization_16 (Ba  (None, 3, 3, 256)            1024      ['conv2d_17[0][0]']           \n",
            " tchNormalization)                                                                                \n",
            "                                                                                                  \n",
            " conv2d_18 (Conv2D)          (None, 3, 3, 256)            33024     ['activation_14[0][0]']       \n",
            "                                                                                                  \n",
            " add_7 (Add)                 (None, 3, 3, 256)            0         ['batch_normalization_16[0][0]\n",
            "                                                                    ',                            \n",
            "                                                                     'conv2d_18[0][0]']           \n",
            "                                                                                                  \n",
            " activation_16 (Activation)  (None, 3, 3, 256)            0         ['add_7[0][0]']               \n",
            "                                                                                                  \n",
            " conv2d_19 (Conv2D)          (None, 3, 3, 256)            590080    ['activation_16[0][0]']       \n",
            "                                                                                                  \n",
            " batch_normalization_17 (Ba  (None, 3, 3, 256)            1024      ['conv2d_19[0][0]']           \n",
            " tchNormalization)                                                                                \n",
            "                                                                                                  \n",
            " activation_17 (Activation)  (None, 3, 3, 256)            0         ['batch_normalization_17[0][0]\n",
            "                                                                    ']                            \n",
            "                                                                                                  \n",
            " conv2d_20 (Conv2D)          (None, 3, 3, 256)            590080    ['activation_17[0][0]']       \n",
            "                                                                                                  \n",
            " batch_normalization_18 (Ba  (None, 3, 3, 256)            1024      ['conv2d_20[0][0]']           \n",
            " tchNormalization)                                                                                \n",
            "                                                                                                  \n",
            " add_8 (Add)                 (None, 3, 3, 256)            0         ['batch_normalization_18[0][0]\n",
            "                                                                    ',                            \n",
            "                                                                     'activation_16[0][0]']       \n",
            "                                                                                                  \n",
            " activation_18 (Activation)  (None, 3, 3, 256)            0         ['add_8[0][0]']               \n",
            "                                                                                                  \n",
            " conv2d_21 (Conv2D)          (None, 3, 3, 256)            590080    ['activation_18[0][0]']       \n",
            "                                                                                                  \n",
            " batch_normalization_19 (Ba  (None, 3, 3, 256)            1024      ['conv2d_21[0][0]']           \n",
            " tchNormalization)                                                                                \n",
            "                                                                                                  \n",
            " activation_19 (Activation)  (None, 3, 3, 256)            0         ['batch_normalization_19[0][0]\n",
            "                                                                    ']                            \n",
            "                                                                                                  \n",
            " conv2d_22 (Conv2D)          (None, 3, 3, 256)            590080    ['activation_19[0][0]']       \n",
            "                                                                                                  \n",
            " batch_normalization_20 (Ba  (None, 3, 3, 256)            1024      ['conv2d_22[0][0]']           \n",
            " tchNormalization)                                                                                \n",
            "                                                                                                  \n",
            " add_9 (Add)                 (None, 3, 3, 256)            0         ['batch_normalization_20[0][0]\n",
            "                                                                    ',                            \n",
            "                                                                     'activation_18[0][0]']       \n",
            "                                                                                                  \n",
            " activation_20 (Activation)  (None, 3, 3, 256)            0         ['add_9[0][0]']               \n",
            "                                                                                                  \n",
            " conv2d_23 (Conv2D)          (None, 3, 3, 256)            590080    ['activation_20[0][0]']       \n",
            "                                                                                                  \n",
            " batch_normalization_21 (Ba  (None, 3, 3, 256)            1024      ['conv2d_23[0][0]']           \n",
            " tchNormalization)                                                                                \n",
            "                                                                                                  \n",
            " activation_21 (Activation)  (None, 3, 3, 256)            0         ['batch_normalization_21[0][0]\n",
            "                                                                    ']                            \n",
            "                                                                                                  \n",
            " conv2d_24 (Conv2D)          (None, 3, 3, 256)            590080    ['activation_21[0][0]']       \n",
            "                                                                                                  \n",
            " batch_normalization_22 (Ba  (None, 3, 3, 256)            1024      ['conv2d_24[0][0]']           \n",
            " tchNormalization)                                                                                \n",
            "                                                                                                  \n",
            " add_10 (Add)                (None, 3, 3, 256)            0         ['batch_normalization_22[0][0]\n",
            "                                                                    ',                            \n",
            "                                                                     'activation_20[0][0]']       \n",
            "                                                                                                  \n",
            " activation_22 (Activation)  (None, 3, 3, 256)            0         ['add_10[0][0]']              \n",
            "                                                                                                  \n",
            " conv2d_25 (Conv2D)          (None, 3, 3, 256)            590080    ['activation_22[0][0]']       \n",
            "                                                                                                  \n",
            " batch_normalization_23 (Ba  (None, 3, 3, 256)            1024      ['conv2d_25[0][0]']           \n",
            " tchNormalization)                                                                                \n",
            "                                                                                                  \n",
            " activation_23 (Activation)  (None, 3, 3, 256)            0         ['batch_normalization_23[0][0]\n",
            "                                                                    ']                            \n",
            "                                                                                                  \n",
            " conv2d_26 (Conv2D)          (None, 3, 3, 256)            590080    ['activation_23[0][0]']       \n",
            "                                                                                                  \n",
            " batch_normalization_24 (Ba  (None, 3, 3, 256)            1024      ['conv2d_26[0][0]']           \n",
            " tchNormalization)                                                                                \n",
            "                                                                                                  \n",
            " add_11 (Add)                (None, 3, 3, 256)            0         ['batch_normalization_24[0][0]\n",
            "                                                                    ',                            \n",
            "                                                                     'activation_22[0][0]']       \n",
            "                                                                                                  \n",
            " activation_24 (Activation)  (None, 3, 3, 256)            0         ['add_11[0][0]']              \n",
            "                                                                                                  \n",
            " conv2d_27 (Conv2D)          (None, 3, 3, 256)            590080    ['activation_24[0][0]']       \n",
            "                                                                                                  \n",
            " batch_normalization_25 (Ba  (None, 3, 3, 256)            1024      ['conv2d_27[0][0]']           \n",
            " tchNormalization)                                                                                \n",
            "                                                                                                  \n",
            " activation_25 (Activation)  (None, 3, 3, 256)            0         ['batch_normalization_25[0][0]\n",
            "                                                                    ']                            \n",
            "                                                                                                  \n",
            " conv2d_28 (Conv2D)          (None, 3, 3, 256)            590080    ['activation_25[0][0]']       \n",
            "                                                                                                  \n",
            " batch_normalization_26 (Ba  (None, 3, 3, 256)            1024      ['conv2d_28[0][0]']           \n",
            " tchNormalization)                                                                                \n",
            "                                                                                                  \n",
            " add_12 (Add)                (None, 3, 3, 256)            0         ['batch_normalization_26[0][0]\n",
            "                                                                    ',                            \n",
            "                                                                     'activation_24[0][0]']       \n",
            "                                                                                                  \n",
            " activation_26 (Activation)  (None, 3, 3, 256)            0         ['add_12[0][0]']              \n",
            "                                                                                                  \n",
            " conv2d_29 (Conv2D)          (None, 2, 2, 512)            1180160   ['activation_26[0][0]']       \n",
            "                                                                                                  \n",
            " batch_normalization_27 (Ba  (None, 2, 2, 512)            2048      ['conv2d_29[0][0]']           \n",
            " tchNormalization)                                                                                \n",
            "                                                                                                  \n",
            " activation_27 (Activation)  (None, 2, 2, 512)            0         ['batch_normalization_27[0][0]\n",
            "                                                                    ']                            \n",
            "                                                                                                  \n",
            " conv2d_30 (Conv2D)          (None, 2, 2, 512)            2359808   ['activation_27[0][0]']       \n",
            "                                                                                                  \n",
            " batch_normalization_28 (Ba  (None, 2, 2, 512)            2048      ['conv2d_30[0][0]']           \n",
            " tchNormalization)                                                                                \n",
            "                                                                                                  \n",
            " conv2d_31 (Conv2D)          (None, 2, 2, 512)            131584    ['activation_26[0][0]']       \n",
            "                                                                                                  \n",
            " add_13 (Add)                (None, 2, 2, 512)            0         ['batch_normalization_28[0][0]\n",
            "                                                                    ',                            \n",
            "                                                                     'conv2d_31[0][0]']           \n",
            "                                                                                                  \n",
            " activation_28 (Activation)  (None, 2, 2, 512)            0         ['add_13[0][0]']              \n",
            "                                                                                                  \n",
            " conv2d_32 (Conv2D)          (None, 2, 2, 512)            2359808   ['activation_28[0][0]']       \n",
            "                                                                                                  \n",
            " batch_normalization_29 (Ba  (None, 2, 2, 512)            2048      ['conv2d_32[0][0]']           \n",
            " tchNormalization)                                                                                \n",
            "                                                                                                  \n",
            " activation_29 (Activation)  (None, 2, 2, 512)            0         ['batch_normalization_29[0][0]\n",
            "                                                                    ']                            \n",
            "                                                                                                  \n",
            " conv2d_33 (Conv2D)          (None, 2, 2, 512)            2359808   ['activation_29[0][0]']       \n",
            "                                                                                                  \n",
            " batch_normalization_30 (Ba  (None, 2, 2, 512)            2048      ['conv2d_33[0][0]']           \n",
            " tchNormalization)                                                                                \n",
            "                                                                                                  \n",
            " add_14 (Add)                (None, 2, 2, 512)            0         ['batch_normalization_30[0][0]\n",
            "                                                                    ',                            \n",
            "                                                                     'activation_28[0][0]']       \n",
            "                                                                                                  \n",
            " activation_30 (Activation)  (None, 2, 2, 512)            0         ['add_14[0][0]']              \n",
            "                                                                                                  \n",
            " conv2d_34 (Conv2D)          (None, 2, 2, 512)            2359808   ['activation_30[0][0]']       \n",
            "                                                                                                  \n",
            " batch_normalization_31 (Ba  (None, 2, 2, 512)            2048      ['conv2d_34[0][0]']           \n",
            " tchNormalization)                                                                                \n",
            "                                                                                                  \n",
            " activation_31 (Activation)  (None, 2, 2, 512)            0         ['batch_normalization_31[0][0]\n",
            "                                                                    ']                            \n",
            "                                                                                                  \n",
            " conv2d_35 (Conv2D)          (None, 2, 2, 512)            2359808   ['activation_31[0][0]']       \n",
            "                                                                                                  \n",
            " batch_normalization_32 (Ba  (None, 2, 2, 512)            2048      ['conv2d_35[0][0]']           \n",
            " tchNormalization)                                                                                \n",
            "                                                                                                  \n",
            " add_15 (Add)                (None, 2, 2, 512)            0         ['batch_normalization_32[0][0]\n",
            "                                                                    ',                            \n",
            "                                                                     'activation_30[0][0]']       \n",
            "                                                                                                  \n",
            " activation_32 (Activation)  (None, 2, 2, 512)            0         ['add_15[0][0]']              \n",
            "                                                                                                  \n",
            " average_pooling2d (Average  (None, 1, 1, 512)            0         ['activation_32[0][0]']       \n",
            " Pooling2D)                                                                                       \n",
            "                                                                                                  \n",
            " flatten (Flatten)           (None, 512)                  0         ['average_pooling2d[0][0]']   \n",
            "                                                                                                  \n",
            " dense (Dense)               (None, 512)                  262656    ['flatten[0][0]']             \n",
            "                                                                                                  \n",
            " dense_1 (Dense)             (None, 10)                   5130      ['dense[0][0]']               \n",
            "                                                                                                  \n",
            "==================================================================================================\n",
            "Total params: 21574410 (82.30 MB)\n",
            "Trainable params: 21559178 (82.24 MB)\n",
            "Non-trainable params: 15232 (59.50 KB)\n",
            "__________________________________________________________________________________________________\n"
          ]
        }
      ],
      "source": [
        "model.summary()"
      ]
    },
    {
      "cell_type": "code",
      "execution_count": 22,
      "metadata": {
        "execution": {
          "iopub.execute_input": "2024-05-03T06:57:10.990324Z",
          "iopub.status.busy": "2024-05-03T06:57:10.989544Z",
          "iopub.status.idle": "2024-05-03T06:57:10.994615Z",
          "shell.execute_reply": "2024-05-03T06:57:10.993573Z",
          "shell.execute_reply.started": "2024-05-03T06:57:10.990292Z"
        },
        "id": "ePMpBYSx1tKw",
        "trusted": true
      },
      "outputs": [],
      "source": [
        "BATCH_SIZE = 64\n",
        "EPOCHS = 50"
      ]
    },
    {
      "cell_type": "code",
      "execution_count": 18,
      "metadata": {
        "colab": {
          "base_uri": "https://localhost:8080/"
        },
        "execution": {
          "iopub.execute_input": "2024-05-03T07:21:27.829491Z",
          "iopub.status.busy": "2024-05-03T07:21:27.829038Z",
          "iopub.status.idle": "2024-05-03T07:21:27.839997Z",
          "shell.execute_reply": "2024-05-03T07:21:27.83874Z",
          "shell.execute_reply.started": "2024-05-03T07:21:27.829455Z"
        },
        "id": "oySozdiQ1tKw",
        "outputId": "c83125ed-a287-4571-ffef-642ac4f3bad3",
        "trusted": true
      },
      "outputs": [
        {
          "name": "stdout",
          "output_type": "stream",
          "text": [
            "[name: \"/device:CPU:0\"\n",
            "device_type: \"CPU\"\n",
            "memory_limit: 268435456\n",
            "locality {\n",
            "}\n",
            "incarnation: 4523473300666286012\n",
            "xla_global_id: -1\n",
            ", name: \"/device:GPU:0\"\n",
            "device_type: \"GPU\"\n",
            "memory_limit: 14626652160\n",
            "locality {\n",
            "  bus_id: 1\n",
            "  links {\n",
            "  }\n",
            "}\n",
            "incarnation: 12137389417850038851\n",
            "physical_device_desc: \"device: 0, name: Tesla T4, pci bus id: 0000:00:04.0, compute capability: 7.5\"\n",
            "xla_global_id: 416903419\n",
            "]\n"
          ]
        }
      ],
      "source": [
        "from tensorflow.python.client import device_lib\n",
        "print(device_lib.list_local_devices())"
      ]
    },
    {
      "cell_type": "code",
      "execution_count": 32,
      "metadata": {
        "id": "kxjcqcLF8FRu"
      },
      "outputs": [],
      "source": [
        "callback = keras.callbacks.EarlyStopping(\n",
        "    monitor='val_loss', patience=3, restore_best_weights=True\n",
        ")"
      ]
    },
    {
      "cell_type": "code",
      "execution_count": 33,
      "metadata": {
        "colab": {
          "base_uri": "https://localhost:8080/"
        },
        "execution": {
          "iopub.execute_input": "2024-05-03T07:21:41.937189Z",
          "iopub.status.busy": "2024-05-03T07:21:41.936514Z",
          "iopub.status.idle": "2024-05-03T07:59:05.997244Z",
          "shell.execute_reply": "2024-05-03T07:59:05.996075Z",
          "shell.execute_reply.started": "2024-05-03T07:21:41.937155Z"
        },
        "id": "nq7xHBBs1tKw",
        "outputId": "931bb5f2-1bd5-4b12-d0c5-bd612099ea0f",
        "trusted": true
      },
      "outputs": [
        {
          "name": "stdout",
          "output_type": "stream",
          "text": [
            "Epoch 1/50\n",
            "782/782 [==============================] - 68s 63ms/step - loss: 1.5529 - categorical_accuracy: 0.4306 - precision_2: 0.6370 - recall_2: 0.2352 - f1_score: 0.4263 - val_loss: 1.6050 - val_categorical_accuracy: 0.4578 - val_precision_2: 0.5628 - val_recall_2: 0.3510 - val_f1_score: 0.4474\n",
            "Epoch 2/50\n",
            "782/782 [==============================] - 44s 56ms/step - loss: 1.1280 - categorical_accuracy: 0.5978 - precision_2: 0.7400 - recall_2: 0.4538 - f1_score: 0.5956 - val_loss: 1.3325 - val_categorical_accuracy: 0.5397 - val_precision_2: 0.6717 - val_recall_2: 0.4177 - val_f1_score: 0.5218\n",
            "Epoch 3/50\n",
            "782/782 [==============================] - 45s 57ms/step - loss: 0.9304 - categorical_accuracy: 0.6722 - precision_2: 0.7814 - recall_2: 0.5676 - f1_score: 0.6711 - val_loss: 1.3859 - val_categorical_accuracy: 0.5433 - val_precision_2: 0.6443 - val_recall_2: 0.4353 - val_f1_score: 0.5448\n",
            "Epoch 4/50\n",
            "782/782 [==============================] - 38s 49ms/step - loss: 0.8032 - categorical_accuracy: 0.7205 - precision_2: 0.8076 - recall_2: 0.6350 - f1_score: 0.7198 - val_loss: 1.0055 - val_categorical_accuracy: 0.6533 - val_precision_2: 0.7331 - val_recall_2: 0.5755 - val_f1_score: 0.6484\n",
            "Epoch 5/50\n",
            "782/782 [==============================] - 42s 54ms/step - loss: 0.6984 - categorical_accuracy: 0.7593 - precision_2: 0.8326 - recall_2: 0.6917 - f1_score: 0.7587 - val_loss: 0.8688 - val_categorical_accuracy: 0.7113 - val_precision_2: 0.7769 - val_recall_2: 0.6645 - val_f1_score: 0.7034\n",
            "Epoch 6/50\n",
            "782/782 [==============================] - 39s 50ms/step - loss: 0.6037 - categorical_accuracy: 0.7916 - precision_2: 0.8528 - recall_2: 0.7354 - f1_score: 0.7910 - val_loss: 1.6126 - val_categorical_accuracy: 0.5392 - val_precision_2: 0.5903 - val_recall_2: 0.4932 - val_f1_score: 0.5530\n",
            "Epoch 7/50\n",
            "782/782 [==============================] - 39s 50ms/step - loss: 0.5224 - categorical_accuracy: 0.8186 - precision_2: 0.8674 - recall_2: 0.7750 - f1_score: 0.8183 - val_loss: 1.0088 - val_categorical_accuracy: 0.6860 - val_precision_2: 0.7391 - val_recall_2: 0.6392 - val_f1_score: 0.6839\n",
            "Epoch 8/50\n",
            "782/782 [==============================] - 38s 49ms/step - loss: 0.4384 - categorical_accuracy: 0.8497 - precision_2: 0.8877 - recall_2: 0.8160 - f1_score: 0.8495 - val_loss: 0.9098 - val_categorical_accuracy: 0.7250 - val_precision_2: 0.7682 - val_recall_2: 0.6977 - val_f1_score: 0.7216\n",
            "Epoch 9/50\n",
            "782/782 [==============================] - 40s 51ms/step - loss: 0.3591 - categorical_accuracy: 0.8760 - precision_2: 0.9037 - recall_2: 0.8527 - f1_score: 0.8758 - val_loss: 0.8334 - val_categorical_accuracy: 0.7488 - val_precision_2: 0.7894 - val_recall_2: 0.7192 - val_f1_score: 0.7518\n",
            "Epoch 10/50\n",
            "782/782 [==============================] - 39s 50ms/step - loss: 0.2947 - categorical_accuracy: 0.8985 - precision_2: 0.9176 - recall_2: 0.8809 - f1_score: 0.8985 - val_loss: 1.2721 - val_categorical_accuracy: 0.6787 - val_precision_2: 0.7133 - val_recall_2: 0.6585 - val_f1_score: 0.6679\n",
            "Epoch 11/50\n",
            "782/782 [==============================] - 38s 49ms/step - loss: 0.2325 - categorical_accuracy: 0.9200 - precision_2: 0.9338 - recall_2: 0.9084 - f1_score: 0.9200 - val_loss: 1.0575 - val_categorical_accuracy: 0.7182 - val_precision_2: 0.7515 - val_recall_2: 0.6990 - val_f1_score: 0.7164\n",
            "Epoch 12/50\n",
            "782/782 [==============================] - 39s 49ms/step - loss: 0.1907 - categorical_accuracy: 0.9340 - precision_2: 0.9446 - recall_2: 0.9256 - f1_score: 0.9340 - val_loss: 1.0157 - val_categorical_accuracy: 0.7333 - val_precision_2: 0.7622 - val_recall_2: 0.7142 - val_f1_score: 0.7301\n",
            "Epoch 13/50\n",
            "782/782 [==============================] - 39s 50ms/step - loss: 0.1581 - categorical_accuracy: 0.9460 - precision_2: 0.9538 - recall_2: 0.9393 - f1_score: 0.9460 - val_loss: 1.2367 - val_categorical_accuracy: 0.7087 - val_precision_2: 0.7319 - val_recall_2: 0.6943 - val_f1_score: 0.7106\n",
            "Epoch 14/50\n",
            "782/782 [==============================] - 38s 49ms/step - loss: 0.1403 - categorical_accuracy: 0.9517 - precision_2: 0.9573 - recall_2: 0.9462 - f1_score: 0.9516 - val_loss: 1.0054 - val_categorical_accuracy: 0.7612 - val_precision_2: 0.7753 - val_recall_2: 0.7498 - val_f1_score: 0.7611\n"
          ]
        }
      ],
      "source": [
        "history = model.fit(\n",
        "    X_train, y_train, batch_size=BATCH_SIZE,\n",
        "    epochs=EPOCHS, shuffle=True,\n",
        "    validation_data=(X_val, y_val),\n",
        "    callbacks=[callback]\n",
        ")"
      ]
    },
    {
      "cell_type": "markdown",
      "metadata": {
        "id": "_HXscItkFaCj"
      },
      "source": [
        "## Evaluating"
      ]
    },
    {
      "cell_type": "code",
      "execution_count": 40,
      "metadata": {
        "execution": {
          "iopub.execute_input": "2024-05-03T09:16:05.36527Z",
          "iopub.status.busy": "2024-05-03T09:16:05.36487Z",
          "iopub.status.idle": "2024-05-03T09:16:05.380358Z",
          "shell.execute_reply": "2024-05-03T09:16:05.379108Z",
          "shell.execute_reply.started": "2024-05-03T09:16:05.365238Z"
        },
        "id": "hgIYoEFr1tKw",
        "trusted": true
      },
      "outputs": [],
      "source": [
        "def plotmodelhistory(history):\n",
        "    fig, axs = plt.subplots(1, 2,figsize=(12, 5))\n",
        "    # summarize history for accuracy\n",
        "    axs[0].plot(history.history['categorical_accuracy'])\n",
        "    axs[0].plot(history.history['val_categorical_accuracy'])\n",
        "    axs[0].set_title('Model Categorical Accuracy')\n",
        "    axs[0].set_ylabel('Categorical Accuracy')\n",
        "    axs[0].set_xlabel('Epoch')\n",
        "\n",
        "    axs[0].legend(['train', 'validate'], loc='upper left')\n",
        "\n",
        "    # summarize history for loss\n",
        "    axs[1].plot(history.history['loss'])\n",
        "    axs[1].plot(history.history['val_loss'])\n",
        "    axs[1].set_title('Model Loss')\n",
        "    axs[1].set_ylabel('Loss')\n",
        "    axs[1].set_xlabel('Epoch')\n",
        "    axs[1].legend(['train', 'validate'], loc='upper left')\n",
        "\n",
        "    # # summarize history for precision\n",
        "    # axs[1][0].plot(history.history['precision'])\n",
        "    # axs[1][0].plot(history.history['val_precision'])\n",
        "    # axs[1][0].set_title('Model Precision')\n",
        "    # axs[1][0].set_ylabel('Precision')\n",
        "    # axs[1][0].set_xlabel('Epoch')\n",
        "    # axs[1][0].legend(['train', 'validate'], loc='upper left')\n",
        "\n",
        "    # # summarize history for recall\n",
        "    # axs[1][1].plot(history.history['recall'])\n",
        "    # axs[1][1].plot(history.history['val_recall'])\n",
        "    # axs[1][1].set_title('Model Recall')\n",
        "    # axs[1][1].set_ylabel('Recall')\n",
        "    # axs[1][1].set_xlabel('Epoch')\n",
        "    # axs[1][1].legend(['train', 'validate'], loc='upper left')\n",
        "\n",
        "#     # summarize history for f1-score\n",
        "#     axs[2][0].plot(history.history['f1_score'])\n",
        "#     axs[2][0].plot(history.history['val_f1_score'])\n",
        "#     axs[2][0].set_title('Model F1 Score')\n",
        "#     axs[2][0].set_ylabel('F1 Score')\n",
        "#     axs[2][0].set_xlabel('Epoch')\n",
        "#     axs[2][0].legend(['train', 'validate'], loc='upper left')\n",
        "\n",
        "    fig.tight_layout()\n",
        "    plt.show()"
      ]
    },
    {
      "cell_type": "code",
      "execution_count": 41,
      "metadata": {
        "colab": {
          "base_uri": "https://localhost:8080/",
          "height": 507
        },
        "execution": {
          "iopub.execute_input": "2024-05-03T09:16:13.844618Z",
          "iopub.status.busy": "2024-05-03T09:16:13.843751Z",
          "iopub.status.idle": "2024-05-03T09:16:14.975615Z",
          "shell.execute_reply": "2024-05-03T09:16:14.974666Z",
          "shell.execute_reply.started": "2024-05-03T09:16:13.844587Z"
        },
        "id": "cPpZQ25r1tKw",
        "outputId": "0497c716-1fab-4fae-ca8d-f9e5caba4047",
        "trusted": true
      },
      "outputs": [
        {
          "data": {
            "image/png": "[encoded data removed]",
            "text/plain": [
              "<Figure size 1200x500 with 2 Axes>"
            ]
          },
          "metadata": {},
          "output_type": "display_data"
        }
      ],
      "source": [
        "# list all data in history\n",
        "plotmodelhistory(history)"
      ]
    },
    {
      "cell_type": "code",
      "execution_count": 47,
      "metadata": {
        "colab": {
          "base_uri": "https://localhost:8080/"
        },
        "id": "GGjPPy5FFxVJ",
        "outputId": "e75f8c11-a0d4-4f64-9afc-2ee66a732f4b"
      },
      "outputs": [
        {
          "name": "stdout",
          "output_type": "stream",
          "text": [
            "125/125 [==============================] - 2s 13ms/step - loss: 0.8259 - categorical_accuracy: 0.7500 - precision_2: 0.7899 - recall_2: 0.7218 - f1_score: 0.7480\n",
            "Test Loss: 0.8259403705596924\n",
            "Test Accuracy: 0.8259403705596924\n",
            "Test Precision: 0.8259403705596924\n",
            "Test Recall: 0.8259403705596924\n",
            "Test F1-Score for label 0-airplane: 0.80597013\n",
            "Test F1-Score for label 1-automobile: 0.87096775\n",
            "Test F1-Score for label 2-bird: 0.68903226\n",
            "Test F1-Score for label 3-cat: 0.51028806\n",
            "Test F1-Score for label 4-deer: 0.6625\n",
            "Test F1-Score for label 5-dog: 0.66459626\n",
            "Test F1-Score for label 6-frog: 0.7777778\n",
            "Test F1-Score for label 7-horse: 0.8172589\n",
            "Test F1-Score for label 8-ship: 0.8449198\n",
            "Test F1-Score for label 9-truck: 0.83678156\n"
          ]
        }
      ],
      "source": [
        "test_loss, test_acc, test_prec, test_rec, test_f1score = model.evaluate(X_test, y_test)\n",
        "\n",
        "print(\"Test Loss:\", test_loss)\n",
        "print(\"Test Accuracy:\", test_loss)\n",
        "print(\"Test Precision:\", test_loss)\n",
        "print(\"Test Recall:\", test_loss)\n",
        "for idx, score in enumerate(test_f1score):\n",
        "    print(f\"Test F1-Score for label {idx}-{code_to_label[idx]}:\", score)"
      ]
    },
    {
      "cell_type": "code",
      "execution_count": null,
      "metadata": {},
      "outputs": [],
      "source": [
        "y_pred = model.predict(X_test)\n",
        "y_pred = np.argmax(y_pred)\n"
      ]
    },
    {
      "cell_type": "markdown",
      "metadata": {
        "id": "mJprBAHy8-3D"
      },
      "source": [
        "# Prediction"
      ]
    },
    {
      "cell_type": "code",
      "execution_count": 82,
      "metadata": {
        "id": "eEthTeInIz2t"
      },
      "outputs": [],
      "source": [
        "def predict_from_file(img_path, model, target_size):\n",
        "    # preprocess\n",
        "    img = image.load_img(img_path, target_size=target_size)\n",
        "    example = image.img_to_array(img)\n",
        "    example = np.expand_dims(example, axis=0)\n",
        "    example = normalize(example)\n",
        "\n",
        "    # predict\n",
        "    pred = model.predict(example)\n",
        "    y_pred = np.argmax(pred)\n",
        "    confidence = np.max(pred)\n",
        "    pred_label = code_to_label[y_pred]\n",
        "\n",
        "    return y_pred, pred_label, confidence"
      ]
    },
    {
      "cell_type": "code",
      "execution_count": null,
      "metadata": {
        "id": "LZDz94QRKHlQ"
      },
      "outputs": [],
      "source": [
        "img_path = \"./sample/kodok.jpg\""
      ]
    },
    {
      "cell_type": "code",
      "execution_count": null,
      "metadata": {},
      "outputs": [
        {
          "name": "stdout",
          "output_type": "stream",
          "text": [
            "1/1 [==============================] - 0s 23ms/step\n"
          ]
        },
        {
          "data": {
            "text/plain": [
              "(6, 'frog', 0.63908195)"
            ]
          },
          "metadata": {},
          "output_type": "display_data"
        }
      ],
      "source": [
        "predict_from_file(img_path, model, X_train.shape[1:])"
      ]
    },
    {
      "cell_type": "code",
      "execution_count": 48,
      "metadata": {
        "id": "GDsQ0hje9G1F"
      },
      "outputs": [],
      "source": []
    },
    {
      "cell_type": "code",
      "execution_count": 52,
      "metadata": {
        "colab": {
          "base_uri": "https://localhost:8080/"
        },
        "id": "2FRThR_wHFf1",
        "outputId": "6b2f2ca5-33da-49e3-a744-b372c8665141"
      },
      "outputs": [
        {
          "name": "stdout",
          "output_type": "stream",
          "text": [
            "/bin/bash: line 1: s: command not found\n",
            "--2024-05-05 04:59:09--  https://encrypted-tbn0.gstatic.com/images?q=tbn:ANd9GcR3s4EWxQtMS557iW24-EQrz6lj5scDEXTEdiOAsnxQ5A\n",
            "Resolving encrypted-tbn0.gstatic.com (encrypted-tbn0.gstatic.com)... 142.250.125.113, 142.250.125.139, 142.250.125.100, ...\n",
            "Connecting to encrypted-tbn0.gstatic.com (encrypted-tbn0.gstatic.com)|142.250.125.113|:443... connected.\n",
            "HTTP request sent, awaiting response... 200 OK\n",
            "Length: 9241 (9.0K) [image/jpeg]\n",
            "Saving to: ‘/content/kodok.jpg’\n",
            "\n",
            "\r/content/kodok.jpg    0%[                    ]       0  --.-KB/s               \r/content/kodok.jpg  100%[===================>]   9.02K  --.-KB/s    in 0s      \n",
            "\n",
            "2024-05-05 04:59:09 (105 MB/s) - ‘/content/kodok.jpg’ saved [9241/9241]\n",
            "\n"
          ]
        }
      ],
      "source": [
        "!wget -O /content/kodok.jpg https://encrypted-tbn0.gstatic.com/images?q=tbn:ANd9GcR3s4EWxQtMS557iW24-EQrz6lj5scDEXTEdiOAsnxQ5A&s"
      ]
    }
  ],
  "metadata": {
    "accelerator": "GPU",
    "colab": {
      "gpuType": "T4",
      "name": "RestNet-Keras",
      "provenance": []
    },
    "kaggle": {
      "accelerator": "nvidiaTeslaT4",
      "dataSources": [],
      "dockerImageVersionId": 30699,
      "isGpuEnabled": true,
      "isInternetEnabled": true,
      "language": "python",
      "sourceType": "notebook"
    },
    "kernelspec": {
      "display_name": "Python 3",
      "name": "python3"
    },
    "language_info": {
      "codemirror_mode": {
        "name": "ipython",
        "version": 3
      },
      "file_extension": ".py",
      "mimetype": "text/x-python",
      "name": "python",
      "nbconvert_exporter": "python",
      "pygments_lexer": "ipython3",
      "version": "3.10.13"
    }
  },
  "nbformat": 4,
  "nbformat_minor": 0
}
